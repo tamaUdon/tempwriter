{
  "nbformat": 4,
  "nbformat_minor": 0,
  "metadata": {
    "colab": {
      "provenance": [],
      "authorship_tag": "ABX9TyP4nVohADedAqIQVRA1Vbqg",
      "include_colab_link": true
    },
    "kernelspec": {
      "name": "python3",
      "display_name": "Python 3"
    },
    "language_info": {
      "name": "python"
    }
  },
  "cells": [
    {
      "cell_type": "markdown",
      "metadata": {
        "id": "view-in-github",
        "colab_type": "text"
      },
      "source": [
        "<a href=\"https://colab.research.google.com/github/tamaUdon/tempwriter/blob/main/model/train/train_shadow_alphabet.ipynb\" target=\"_parent\"><img src=\"https://colab.research.google.com/assets/colab-badge.svg\" alt=\"Open In Colab\"/></a>"
      ]
    },
    {
      "cell_type": "markdown",
      "source": [
        "## Shadow Alphabetデータセットの拡張\n",
        "ref. https://www.tensorflow.org/tutorials/images/data_augmentation?hl=ja\n"
      ],
      "metadata": {
        "id": "wNjjkg2VjYPI"
      }
    },
    {
      "cell_type": "markdown",
      "source": [
        "### セットアップ"
      ],
      "metadata": {
        "id": "7rFokcTQjFZ5"
      }
    },
    {
      "cell_type": "code",
      "execution_count": null,
      "metadata": {
        "id": "3fi-GPjBjCbw"
      },
      "outputs": [],
      "source": [
        "import matplotlib.pyplot as plt\n",
        "import numpy as np\n",
        "import tensorflow as tf\n",
        "import tensorflow_datasets as tfds\n",
        "\n",
        "from tensorflow.keras import layers"
      ]
    },
    {
      "cell_type": "markdown",
      "source": [
        "### データセットをダウンロードする"
      ],
      "metadata": {
        "id": "cszLDGaIjnXF"
      }
    },
    {
      "cell_type": "code",
      "source": [
        "(train_ds, val_ds, test_ds), metadata = tfds.load(\n",
        "    'tf_flowers',\n",
        "    split=['train[:80%]', 'train[80%:90%]', 'train[90%:]'],\n",
        "    with_info=True,\n",
        "    as_supervised=True,\n",
        ")\n",
        "\n",
        "num_classes = metadata.features['label'].num_classes\n",
        "print(num_classes)"
      ],
      "metadata": {
        "id": "DBYJ-kfbjq_U"
      },
      "execution_count": null,
      "outputs": []
    },
    {
      "cell_type": "markdown",
      "source": [
        "### Keras前処理レイヤーを利用する"
      ],
      "metadata": {
        "id": "oQ1EpXdwjuAR"
      }
    },
    {
      "cell_type": "code",
      "source": [
        "data_augmentation = tf.keras.Sequential([\n",
        "  layers.RandomRotation(0.2), # 回転\n",
        "  layers.RandomBrightness(factor=0.2) # 輝度\n",
        "  layers.Rescaling(1./255) # scale\n",
        "])"
      ],
      "metadata": {
        "id": "g8UpZwRkjtlc"
      },
      "execution_count": null,
      "outputs": []
    },
    {
      "cell_type": "markdown",
      "source": [
        "注意: 上記のリスケーリングレイヤーは、ピクセル値を [0,1] の範囲に標準化します。代わりに [-1,1] を用いる場合には、tf.keras.layers.Rescaling(1./127.5, offset=-1) と記述します。"
      ],
      "metadata": {
        "id": "s13E4I5E7z9j"
      }
    },
    {
      "cell_type": "markdown",
      "source": [
        "### 前処理レイヤーをデータセットに適用する"
      ],
      "metadata": {
        "id": "dBe8oKYdpzvL"
      }
    },
    {
      "cell_type": "code",
      "source": [
        "batch_size = 32\n",
        "AUTOTUNE = tf.data.AUTOTUNE\n",
        "\n",
        "def prepare(ds, shuffle=False, augment=False):\n",
        "  # Resize and rescale all datasets.\n",
        "  ds = ds.map(lambda x, y: (resize_and_rescale(x), y), \n",
        "              num_parallel_calls=AUTOTUNE)\n",
        "\n",
        "  if shuffle:\n",
        "    ds = ds.shuffle(1000)\n",
        "\n",
        "  # Batch all datasets.\n",
        "  ds = ds.batch(batch_size)\n",
        "\n",
        "  # Use data augmentation only on the training set.\n",
        "  if augment:\n",
        "    ds = ds.map(lambda x, y: (data_augmentation(x, training=True), y), \n",
        "                num_parallel_calls=AUTOTUNE)\n",
        "\n",
        "  # Use buffered prefetching on all datasets.\n",
        "  return ds.prefetch(buffer_size=AUTOTUNE)"
      ],
      "metadata": {
        "id": "N1ZvFhR85_J7"
      },
      "execution_count": null,
      "outputs": []
    },
    {
      "cell_type": "code",
      "source": [
        "train_ds = prepare(train_ds, shuffle=True, augment=True)\n",
        "val_ds = prepare(val_ds)\n",
        "test_ds = prepare(test_ds)\n",
        "\n",
        "# TODO: driveに保存する"
      ],
      "metadata": {
        "id": "qwRRi5Zl6LiK"
      },
      "execution_count": null,
      "outputs": []
    },
    {
      "cell_type": "markdown",
      "source": [
        "## Shadow Alphabetモデルの転移学習\n",
        "ref. https://developers.google.com/mediapipe/solutions/vision/gesture_recognizer/customize\n"
      ],
      "metadata": {
        "id": "qe0A-_JJ6lXl"
      }
    },
    {
      "cell_type": "markdown",
      "source": [
        "### セットアップ"
      ],
      "metadata": {
        "id": "dmQbdKFd-1ZK"
      }
    },
    {
      "cell_type": "code",
      "source": [
        "pip install --upgrade pip\n",
        "pip install mediapipe-model-maker"
      ],
      "metadata": {
        "id": "k5jYhgu662Mq"
      },
      "execution_count": null,
      "outputs": []
    },
    {
      "cell_type": "code",
      "source": [
        "from google.colab import files\n",
        "import os\n",
        "import tensorflow as tf\n",
        "assert tf.__version__.startswith('2')\n",
        "\n",
        "from mediapipe_model_maker import gesture_recognizer\n",
        "\n",
        "import matplotlib.pyplot as plt"
      ],
      "metadata": {
        "id": "8vDwMeqz-4_k"
      },
      "execution_count": null,
      "outputs": []
    },
    {
      "cell_type": "markdown",
      "source": [
        "### データセットを取得する"
      ],
      "metadata": {
        "id": "GKXxjX_-F6Y_"
      }
    },
    {
      "cell_type": "code",
      "source": [
        "!wget https://storage.googleapis.com/mediapipe-tasks/gesture_recognizer/rps_data_sample.zip\n",
        "!unzip rps_data_sample.zip\n",
        "dataset_path = \"rps_data_sample\""
      ],
      "metadata": {
        "id": "D-7pAwzT-76e"
      },
      "execution_count": null,
      "outputs": []
    },
    {
      "cell_type": "markdown",
      "source": [
        "### データセットをロードする"
      ],
      "metadata": {
        "id": "AYuoZv-uGJNs"
      }
    },
    {
      "cell_type": "markdown",
      "source": [
        "ロード時に、MediaPipe Handsから事前にパッケージ化された手検出モデルを実行して、画像から手のランドマークを検出します。<br>\n",
        "<br>\n",
        "手が検出されない画像はデータセットから除外されます。<br>\n",
        "結果として得られるデータセットには、画像自体ではなく、各画像から抽出された手のランドマークの位置が含まれます。<br>\n",
        "<br>\n",
        "このHandDataPreprocessingParamsクラスには、データ読み込みプロセス用の2つの構成可能なオプションが含まれています。<br>\n",
        "<br>\n",
        "shuffle: データセットをシャッフルするかどうかを制御するブール値。デフォルトは true<br>\n",
        "min_detection_confidence: 手を検出するための信頼しきい値を制御する 0 ～ 1 間のfloat<br>"
      ],
      "metadata": {
        "id": "Ll_ykjxSHZUr"
      }
    },
    {
      "cell_type": "code",
      "source": [
        "data = gesture_recognizer.Dataset.from_folder(\n",
        "    dirname=dataset_path,\n",
        "    hparams=gesture_recognizer.HandDataPreprocessingParams()\n",
        ")\n",
        "# 8:1:1=train:val:test\n",
        "train_data, rest_data = data.split(0.8)\n",
        "validation_data, test_data = rest_data.split(0.5)"
      ],
      "metadata": {
        "id": "HvnOLjKZGLxt"
      },
      "execution_count": null,
      "outputs": []
    },
    {
      "cell_type": "markdown",
      "source": [
        "### モデルをトレーニングする"
      ],
      "metadata": {
        "id": "zmzHgMwkGPJO"
      }
    },
    {
      "cell_type": "code",
      "source": [
        "hparams = gesture_recognizer.HParams(export_dir=\"exported_model\")\n",
        "options = gesture_recognizer.GestureRecognizerOptions(hparams=hparams)\n",
        "model = gesture_recognizer.GestureRecognizer.create(\n",
        "    train_data=train_data,\n",
        "    validation_data=validation_data,\n",
        "    options=options\n",
        ")"
      ],
      "metadata": {
        "id": "vZVhx_TfGObt"
      },
      "execution_count": null,
      "outputs": []
    },
    {
      "cell_type": "markdown",
      "source": [
        "### モデルのパフォーマンスを評価する"
      ],
      "metadata": {
        "id": "bJ81aOT0GUTG"
      }
    },
    {
      "cell_type": "code",
      "source": [
        "loss, acc = model.evaluate(test_data, batch_size=1)\n",
        "print(f\"Test loss:{loss}, Test accuracy:{acc}\")"
      ],
      "metadata": {
        "id": "ymoW3nmsGXVG"
      },
      "execution_count": null,
      "outputs": []
    },
    {
      "cell_type": "markdown",
      "source": [
        "### モデルの保存"
      ],
      "metadata": {
        "id": "ZtQnmekIGZ4k"
      }
    },
    {
      "cell_type": "code",
      "source": [
        "# TODO: tflite形式でなくtf形式で保存する\n",
        "model.export_model()\n",
        "!ls exported_model\n",
        "\n",
        "files.download('exported_model/gesture_recognizer.task')"
      ],
      "metadata": {
        "id": "8vz1pnKwGcHw"
      },
      "execution_count": null,
      "outputs": []
    }
  ]
}